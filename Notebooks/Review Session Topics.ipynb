{
 "cells": [
  {
   "cell_type": "markdown",
   "metadata": {},
   "source": [
    "# Requests\n",
    "\n",
    "* Coding of formulas: What goes where and why?\n",
    "* Small examples and quick coding exercises\n",
    "* Coding problems in variance and regression\n",
    "* Coding Lasso, Ridge, and Cross Validation\n",
    "* Conceptually Bias and Variance\n",
    "* Logistic regression, Naive Bayes, and Decision trees\n",
    "* Weeks 3, 4, and 5 conceptually\n",
    "    1. Bias-Variance, Cross Validation, CoD\n",
    "    2. Regularization\n",
    "    3. Logistic Regression\n",
    "    4. Clustering\n",
    "    5. Naive Bayes\n",
    "    6. Evaluation Metrics\n",
    "* Growth Plan and where to go from here\n",
    "* Conceptual ideas behind each algorithm\n",
    "* Python practice for growth in sklearn\n",
    "* Coding from scratch or translating search topics in SKlearn into usable code\n",
    "* Basics of Python\n",
    "    1. Lists\n",
    "    2. Dictionaries\n",
    "* Interview questions. What types of questions elude candidates.\n",
    "* Loading data that isn't in csv format\n",
    "* Indexing pandas date frame\n",
    "* Tips and tricks for working around null values\n",
    "* How to use %debug"
   ]
  },
  {
   "cell_type": "code",
   "execution_count": null,
   "metadata": {
    "collapsed": true
   },
   "outputs": [],
   "source": []
  }
 ],
 "metadata": {
  "kernelspec": {
   "display_name": "Python 2",
   "language": "python",
   "name": "python2"
  },
  "language_info": {
   "codemirror_mode": {
    "name": "ipython",
    "version": 2
   },
   "file_extension": ".py",
   "mimetype": "text/x-python",
   "name": "python",
   "nbconvert_exporter": "python",
   "pygments_lexer": "ipython2",
   "version": "2.7.10"
  }
 },
 "nbformat": 4,
 "nbformat_minor": 0
}
