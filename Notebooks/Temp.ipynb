{
 "cells": [
  {
   "cell_type": "code",
   "execution_count": null,
   "metadata": {
    "collapsed": true
   },
   "outputs": [],
   "source": [
    "np.random.seed(0)\n",
    "\n",
    "T_x = np.linspace(0, 15, 1000)[:, np.newaxis]\n",
    "T_y = np.sin(T_x).ravel()\n",
    "\n",
    "X = np.sort(15 * np.random.rand(150, 1), axis=0)\n",
    "y = np.sin(X).ravel()\n",
    "\n",
    "# Add noise to targets\n",
    "y += 1.5 * (0.5 - np.random.rand(150))\n",
    "\n",
    "plt.plot(T_x,T_y,c='g')\n",
    "plt.scatter(X,y)"
   ]
  }
 ],
 "metadata": {
  "kernelspec": {
   "display_name": "Python 2",
   "language": "python",
   "name": "python2"
  },
  "language_info": {
   "codemirror_mode": {
    "name": "ipython",
    "version": 2
   },
   "file_extension": ".py",
   "mimetype": "text/x-python",
   "name": "python",
   "nbconvert_exporter": "python",
   "pygments_lexer": "ipython2",
   "version": "2.7.10"
  }
 },
 "nbformat": 4,
 "nbformat_minor": 0
}
