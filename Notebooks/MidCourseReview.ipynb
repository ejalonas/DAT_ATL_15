{
 "cells": [
  {
   "cell_type": "markdown",
   "metadata": {},
   "source": [
    "# Requests\n",
    "\n",
    "* Coding of formulas: What goes where and why?\n",
    "* Small examples and quick coding exercises\n",
    "* Coding problems in variance and regression\n",
    "* Coding Lasso, Ridge, and Cross Validation\n",
    "* Conceptually Bias and Variance\n",
    "* Logistic regression, Naive Bayes, and Decision trees\n",
    "* Weeks 3, 4, and 5 conceptually\n",
    "    1. Bias-Variance, Cross Validation, CoD\n",
    "    2. Regularization\n",
    "    3. Logistic Regression\n",
    "    4. Clustering\n",
    "    5. Naive Bayes\n",
    "    6. Evaluation Metrics\n",
    "* Growth Plan and where to go from here\n",
    "* Conceptual ideas behind each algorithm\n",
    "* Python practice for growth in sklearn\n",
    "* Coding from scratch or translating search topics in SKlearn into usable code\n",
    "* Basics of Python\n",
    "    1. Lists\n",
    "    2. Dictionaries\n",
    "* Interview questions. What types of questions elude candidates.\n",
    "* Loading data that isn't in csv format\n",
    "* Indexing pandas date frame\n",
    "* Tips and tricks for working around null values\n",
    "* How to use %debug\n",
    "* Ridge and Lasso\n",
    "* Real world example of using a decision tree\n",
    "* Discuss how to choose a model. If it's continuous then use regression\n",
    "* What are machine learning job interviews like? Build a model? Conceptual questions?\n",
    "\n",
    "\n",
    "* Give examples of decision trees and logistic regression\n",
    "* What is Hierarchical Clustering used for?"
   ]
  },
  {
   "cell_type": "markdown",
   "metadata": {},
   "source": [
    "# Topics\n",
    "\n",
    "* Growth Plan\n",
    "* Jupyter, Numpy, Pandas Series and DataFrame, Dictionary\n",
    "* Machine Learning Basics\n",
    "    1. Supervised, Unsupervised\n",
    "    2. Classification, Regression\n",
    "    3. Clustering, dimensionality reduction\n",
    "* What algorithms have we learned:\n",
    "    1. Linear Regression\n",
    "    2. Lasso\n",
    "    3. Ridge\n",
    "    4. KNN\n",
    "    5. Naive Bayes\n",
    "    6. Decision Trees\n",
    "    7. Clustering\n",
    "    8. Logistic Regression\n",
    "* Parameters of each algorithm? How do we choose parameters?\n",
    "* Coding formula SKLearn\n",
    "    1. estimator\n",
    "    2. SKLearn lookup\n",
    "    3. Create Object\n",
    "    4. Fit, Predict\n",
    "    5. Parameters\n",
    "    6. Input \n",
    "* Loading data\n",
    "* Ridge, Lasso, and Cross Validation Coding\n",
    "* Conceptually Bias and Variance\n",
    "    1. What it means\n",
    "    2. Each estimator\n",
    "    3. What we see\n",
    "    4. What we do\n",
    "    5. Learning curves\n",
    "\n",
    "* Interview Questions\n",
    "\n",
    "* Hierarchical Clustering uses\n",
    "* Null values\n",
    "* %debug\n",
    "* Real world uses of decision trees\n",
    "* Core Python\n",
    "* Conceptually\n",
    "    1. Bias, Variance, CV, CoD\n",
    "    2. Regularization\n",
    "    3. Logistic Regression\n",
    "    4. Clustering\n",
    "    5. Naive Bayes\n",
    "    6. Evaluation Metrics"
   ]
  },
  {
   "cell_type": "code",
   "execution_count": 15,
   "metadata": {
    "collapsed": true
   },
   "outputs": [],
   "source": [
    "import pandas as pd\n",
    "import numpy as np"
   ]
  },
  {
   "cell_type": "markdown",
   "metadata": {},
   "source": [
    "# Numpy and Pandas\n",
    "\n",
    "* Load Iris Dataset. What type is this?\n",
    "* Create a DataFrame from it\n",
    "    1. pd.DataFrame.from_records(iris.data)\n",
    "* Rename the columns\n",
    "* What are the column names?\n",
    "* Select the first column. What type is this? Check it.\n",
    "* Convert it to a numpy array\n",
    "* Select rows 1,2,3\n",
    "* Select just the first two flower types. How'd you do this? What type is the data structure now"
   ]
  },
  {
   "cell_type": "markdown",
   "metadata": {},
   "source": [
    "# Sparse Models"
   ]
  },
  {
   "cell_type": "code",
   "execution_count": 2,
   "metadata": {
    "collapsed": true
   },
   "outputs": [],
   "source": [
    "from sklearn.datasets import make_regression\n",
    "reg_data, reg_target = make_regression(n_samples=2000, n_features=3, effective_rank=2, noise=10)"
   ]
  },
  {
   "cell_type": "code",
   "execution_count": 3,
   "metadata": {
    "collapsed": false
   },
   "outputs": [],
   "source": [
    "import numpy as np\n",
    "from sklearn.linear_model import LinearRegression\n",
    "\n",
    "n_bootstraps = 1000\n",
    "len_data = len(reg_data)\n",
    "subsample_size = np.int(0.75*len_data)\n",
    "subsample = lambda: np.random.choice(np.arange(0, len_data), size=subsample_size)\n",
    "coefs = np.ones((n_bootstraps, 3))\n",
    "\n",
    "for i in range(n_bootstraps):\n",
    "    subsample_idx = subsample()\n",
    "    subsample_X = reg_data[subsample_idx]\n",
    "    subsample_y = reg_target[subsample_idx]\n",
    "    \n",
    "    lr = LinearRegression()\n",
    "    lr.fit(subsample_X, subsample_y)\n",
    "\n",
    "    coefs[i][0] = lr.coef_[0]\n",
    "    coefs[i][1] = lr.coef_[1]\n",
    "    coefs[i][2] = lr.coef_[2]"
   ]
  },
  {
   "cell_type": "code",
   "execution_count": 4,
   "metadata": {
    "collapsed": true
   },
   "outputs": [],
   "source": [
    "from sklearn.linear_model import Ridge\n",
    "\n",
    "n_bootstraps = 1000\n",
    "len_data = len(reg_data)\n",
    "subsample_size = np.int(0.75*len_data)\n",
    "subsample = lambda: np.random.choice(np.arange(0, len_data), size=subsample_size)\n",
    "\n",
    "coefs_r = np.ones((n_bootstraps, 3))\n",
    "\n",
    "\n",
    "for i in range(n_bootstraps):\n",
    "    subsample_idx = subsample()\n",
    "    subsample_X = reg_data[subsample_idx]\n",
    "    subsample_y = reg_target[subsample_idx]\n",
    "    \n",
    "    lr = Ridge()\n",
    "    lr.fit(subsample_X, subsample_y)\n",
    "\n",
    "    coefs_r[i][0] = lr.coef_[0]\n",
    "    coefs_r[i][1] = lr.coef_[1]\n",
    "    coefs_r[i][2] = lr.coef_[2]"
   ]
  },
  {
   "cell_type": "code",
   "execution_count": 5,
   "metadata": {
    "collapsed": false
   },
   "outputs": [
    {
     "data": {
      "text/plain": [
       "(array([   4.,   43.,  127.,  230.,  250.,  194.,  104.,   37.,    9.,    2.]),\n",
       " array([  5.93975275,   8.89890624,  11.85805973,  14.81721321,\n",
       "         17.7763667 ,  20.73552018,  23.69467367,  26.65382715,\n",
       "         29.61298064,  32.57213412,  35.53128761]),\n",
       " <a list of 10 Patch objects>)"
      ]
     },
     "execution_count": 5,
     "metadata": {},
     "output_type": "execute_result"
    },
    {
     "data": {
      "image/png": "[encoded data removed]",
      "text/plain": [
       "<matplotlib.figure.Figure at 0x10c0ff450>"
      ]
     },
     "metadata": {},
     "output_type": "display_data"
    }
   ],
   "source": [
    "import matplotlib.pyplot as plt\n",
    "%matplotlib inline\n",
    "\n",
    "plt.subplot(3,2,1)\n",
    "plt.hist(coefs[:,0])\n",
    "\n",
    "plt.subplot(3,2,3)\n",
    "plt.hist(coefs[:,1])\n",
    "\n",
    "plt.subplot(3,2,5)\n",
    "plt.hist(coefs[:,2])\n",
    "\n",
    "plt.subplot(3,2,2)\n",
    "plt.hist(coefs_r[:,0])\n",
    "\n",
    "plt.subplot(3,2,4)\n",
    "plt.hist(coefs_r[:,1])\n",
    "\n",
    "plt.subplot(3,2,6)\n",
    "plt.hist(coefs_r[:,2])"
   ]
  },
  {
   "cell_type": "markdown",
   "metadata": {},
   "source": [
    "### Redo with different alphas"
   ]
  },
  {
   "cell_type": "code",
   "execution_count": 6,
   "metadata": {
    "collapsed": false
   },
   "outputs": [],
   "source": [
    "from sklearn.linear_model import Ridge\n",
    "\n",
    "n_bootstraps = 1000\n",
    "len_data = len(reg_data)\n",
    "subsample_size = np.int(0.75*len_data)\n",
    "subsample = lambda: np.random.choice(np.arange(0, len_data), size=subsample_size)\n",
    "\n",
    "coefs_r1 = np.ones((n_bootstraps, 3))\n",
    "\n",
    "\n",
    "for i in range(n_bootstraps):\n",
    "    subsample_idx = subsample()\n",
    "    subsample_X = reg_data[subsample_idx]\n",
    "    subsample_y = reg_target[subsample_idx]\n",
    "    \n",
    "    lr = Ridge(alpha=1e-10)\n",
    "    lr.fit(subsample_X, subsample_y)\n",
    "\n",
    "    coefs_r1[i][0] = lr.coef_[0]\n",
    "    coefs_r1[i][1] = lr.coef_[1]\n",
    "    coefs_r1[i][2] = lr.coef_[2]"
   ]
  },
  {
   "cell_type": "code",
   "execution_count": 7,
   "metadata": {
    "collapsed": false
   },
   "outputs": [],
   "source": [
    "from sklearn.linear_model import Ridge\n",
    "\n",
    "n_bootstraps = 1000\n",
    "len_data = len(reg_data)\n",
    "subsample_size = np.int(0.75*len_data)\n",
    "subsample = lambda: np.random.choice(np.arange(0, len_data), size=subsample_size)\n",
    "\n",
    "coefs_r2 = np.ones((n_bootstraps, 3))\n",
    "\n",
    "\n",
    "for i in range(n_bootstraps):\n",
    "    subsample_idx = subsample()\n",
    "    subsample_X = reg_data[subsample_idx]\n",
    "    subsample_y = reg_target[subsample_idx]\n",
    "    \n",
    "    lr = Ridge(alpha=.9)\n",
    "    lr.fit(subsample_X, subsample_y)\n",
    "\n",
    "    coefs_r2[i][0] = lr.coef_[0]\n",
    "    coefs_r2[i][1] = lr.coef_[1]\n",
    "    coefs_r2[i][2] = lr.coef_[2]"
   ]
  },
  {
   "cell_type": "code",
   "execution_count": 8,
   "metadata": {
    "collapsed": false
   },
   "outputs": [
    {
     "data": {
      "text/plain": [
       "(array([   6.,   29.,   80.,  177.,  225.,  222.,  154.,   75.,   23.,    9.]),\n",
       " array([  6.36181874,   9.1511394 ,  11.94046006,  14.72978072,\n",
       "         17.51910139,  20.30842205,  23.09774271,  25.88706337,\n",
       "         28.67638403,  31.46570469,  34.25502536]),\n",
       " <a list of 10 Patch objects>)"
      ]
     },
     "execution_count": 8,
     "metadata": {},
     "output_type": "execute_result"
    },
    {
     "data": {
      "image/png": "[encoded data removed]",
      "text/plain": [
       "<matplotlib.figure.Figure at 0x10a959ad0>"
      ]
     },
     "metadata": {},
     "output_type": "display_data"
    }
   ],
   "source": [
    "import matplotlib.pyplot as plt\n",
    "%matplotlib inline\n",
    "\n",
    "plt.subplot(3,2,1)\n",
    "plt.hist(coefs[:,0])\n",
    "\n",
    "plt.subplot(3,2,3)\n",
    "plt.hist(coefs[:,1])\n",
    "\n",
    "plt.subplot(3,2,5)\n",
    "plt.hist(coefs[:,2])\n",
    "\n",
    "plt.subplot(3,2,2)\n",
    "plt.hist(coefs_r2[:,0])\n",
    "\n",
    "plt.subplot(3,2,4)\n",
    "plt.hist(coefs_r2[:,1])\n",
    "\n",
    "plt.subplot(3,2,6)\n",
    "plt.hist(coefs_r2[:,2])"
   ]
  },
  {
   "cell_type": "markdown",
   "metadata": {},
   "source": [
    "# Fit knn on the Iris data set with default parameters"
   ]
  },
  {
   "cell_type": "markdown",
   "metadata": {},
   "source": [
    "# Fit KNN on the Iris data set using cross validation grid search to choose k. Try values of k 1 to 50. "
   ]
  },
  {
   "cell_type": "markdown",
   "metadata": {},
   "source": [
    "# Bias and Variance Learning and Validation Curves"
   ]
  },
  {
   "cell_type": "code",
   "execution_count": 12,
   "metadata": {
    "collapsed": false
   },
   "outputs": [],
   "source": [
    "# Validation Curve\n",
    "\n",
    "import numpy as np\n",
    "from sklearn.learning_curve import validation_curve\n",
    "from sklearn.datasets import load_iris\n",
    "from sklearn.linear_model import Ridge\n",
    "\n",
    "np.random.seed(0)\n",
    "iris = load_iris()\n",
    "X, y = iris.data, iris.target\n",
    "indices = np.arange(y.shape[0])\n",
    "np.random.shuffle(indices)\n",
    "X, y = X[indices], y[indices]\n",
    "\n",
    "train_scores, valid_scores = validation_curve(Ridge(), X, y, \"alpha\",np.logspace(-7, 3, 3))"
   ]
  },
  {
   "cell_type": "code",
   "execution_count": 13,
   "metadata": {
    "collapsed": false
   },
   "outputs": [],
   "source": [
    "#Learning Curve\n",
    "from sklearn.learning_curve import learning_curve\n",
    "from sklearn.svm import SVC\n",
    "\n",
    "train_sizes, train_scores, valid_scores = learning_curve(SVC(kernel='linear'), X, y, train_sizes=[50, 80, 110], cv=5)"
   ]
  },
  {
   "cell_type": "code",
   "execution_count": 14,
   "metadata": {
    "collapsed": false
   },
   "outputs": [
    {
     "data": {
      "text/plain": [
       "array([[ 0.98      ,  0.98      ,  0.98      ,  0.98      ,  0.98      ],\n",
       "       [ 0.9875    ,  1.        ,  0.9875    ,  0.9875    ,  0.9875    ],\n",
       "       [ 0.98181818,  1.        ,  0.98181818,  0.98181818,  0.99090909]])"
      ]
     },
     "execution_count": 14,
     "metadata": {},
     "output_type": "execute_result"
    }
   ],
   "source": [
    "train_scores"
   ]
  },
  {
   "cell_type": "markdown",
   "metadata": {},
   "source": [
    "# Logistic Regression"
   ]
  },
  {
   "cell_type": "code",
   "execution_count": 36,
   "metadata": {
    "collapsed": true
   },
   "outputs": [],
   "source": [
    "from sklearn.datasets import make_classification\n",
    "X, y = make_classification(n_samples=1000, n_features=4)"
   ]
  },
  {
   "cell_type": "code",
   "execution_count": 37,
   "metadata": {
    "collapsed": true
   },
   "outputs": [],
   "source": [
    "from sklearn.linear_model import LogisticRegression\n",
    "lr = LogisticRegression()"
   ]
  },
  {
   "cell_type": "code",
   "execution_count": 38,
   "metadata": {
    "collapsed": true
   },
   "outputs": [],
   "source": [
    "X_train = X[:-200]\n",
    "X_test = X[-200:]\n",
    "y_train = y[:-200]\n",
    "y_test = y[-200:]"
   ]
  },
  {
   "cell_type": "code",
   "execution_count": 40,
   "metadata": {
    "collapsed": false
   },
   "outputs": [],
   "source": [
    "lr.fit(X_train, y_train)\n",
    "y_train_predictions = lr.predict(X_train)\n",
    "y_test_predictions = lr.predict(X_test)"
   ]
  },
  {
   "cell_type": "code",
   "execution_count": 41,
   "metadata": {
    "collapsed": false
   },
   "outputs": [
    {
     "data": {
      "text/plain": [
       "0.91249999999999998"
      ]
     },
     "execution_count": 41,
     "metadata": {},
     "output_type": "execute_result"
    }
   ],
   "source": [
    "(y_train_predictions == y_train).sum().astype(float) / y_train.shape[0]"
   ]
  },
  {
   "cell_type": "code",
   "execution_count": 42,
   "metadata": {
    "collapsed": false
   },
   "outputs": [
    {
     "data": {
      "text/plain": [
       "0.93000000000000005"
      ]
     },
     "execution_count": 42,
     "metadata": {},
     "output_type": "execute_result"
    }
   ],
   "source": [
    "(y_test_predictions == y_test).sum().astype(float) / y_test.shape[0]"
   ]
  },
  {
   "cell_type": "code",
   "execution_count": null,
   "metadata": {
    "collapsed": true
   },
   "outputs": [],
   "source": []
  }
 ],
 "metadata": {
  "kernelspec": {
   "display_name": "Python 2",
   "language": "python",
   "name": "python2"
  },
  "language_info": {
   "codemirror_mode": {
    "name": "ipython",
    "version": 2
   },
   "file_extension": ".py",
   "mimetype": "text/x-python",
   "name": "python",
   "nbconvert_exporter": "python",
   "pygments_lexer": "ipython2",
   "version": "2.7.10"
  }
 },
 "nbformat": 4,
 "nbformat_minor": 0
}
