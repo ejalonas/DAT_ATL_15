{
 "cells": [
  {
   "cell_type": "markdown",
   "metadata": {},
   "source": [
    "# Boston Housing Data"
   ]
  },
  {
   "cell_type": "markdown",
   "metadata": {},
   "source": [
    "## Import modules and Data set"
   ]
  },
  {
   "cell_type": "code",
   "execution_count": 69,
   "metadata": {
    "collapsed": false
   },
   "outputs": [
    {
     "data": {
      "text/html": [
       "<div>\n",
       "<table border=\"1\" class=\"dataframe\">\n",
       "  <thead>\n",
       "    <tr style=\"text-align: right;\">\n",
       "      <th></th>\n",
       "      <th>CRIM</th>\n",
       "      <th>ZN</th>\n",
       "      <th>INDUS</th>\n",
       "      <th>CHAS</th>\n",
       "      <th>NOX</th>\n",
       "      <th>RM</th>\n",
       "      <th>AGE</th>\n",
       "      <th>DIS</th>\n",
       "      <th>RAD</th>\n",
       "      <th>TAX</th>\n",
       "      <th>PTRATIO</th>\n",
       "      <th>B</th>\n",
       "      <th>LSTAT</th>\n",
       "      <th>cost</th>\n",
       "    </tr>\n",
       "  </thead>\n",
       "  <tbody>\n",
       "    <tr>\n",
       "      <th>0</th>\n",
       "      <td>0.00632</td>\n",
       "      <td>18</td>\n",
       "      <td>2.31</td>\n",
       "      <td>0</td>\n",
       "      <td>0.538</td>\n",
       "      <td>6.575</td>\n",
       "      <td>65.2</td>\n",
       "      <td>4.0900</td>\n",
       "      <td>1</td>\n",
       "      <td>296</td>\n",
       "      <td>15.3</td>\n",
       "      <td>396.90</td>\n",
       "      <td>4.98</td>\n",
       "      <td>24.0</td>\n",
       "    </tr>\n",
       "    <tr>\n",
       "      <th>1</th>\n",
       "      <td>0.02731</td>\n",
       "      <td>0</td>\n",
       "      <td>7.07</td>\n",
       "      <td>0</td>\n",
       "      <td>0.469</td>\n",
       "      <td>6.421</td>\n",
       "      <td>78.9</td>\n",
       "      <td>4.9671</td>\n",
       "      <td>2</td>\n",
       "      <td>242</td>\n",
       "      <td>17.8</td>\n",
       "      <td>396.90</td>\n",
       "      <td>9.14</td>\n",
       "      <td>21.6</td>\n",
       "    </tr>\n",
       "    <tr>\n",
       "      <th>2</th>\n",
       "      <td>0.02729</td>\n",
       "      <td>0</td>\n",
       "      <td>7.07</td>\n",
       "      <td>0</td>\n",
       "      <td>0.469</td>\n",
       "      <td>7.185</td>\n",
       "      <td>61.1</td>\n",
       "      <td>4.9671</td>\n",
       "      <td>2</td>\n",
       "      <td>242</td>\n",
       "      <td>17.8</td>\n",
       "      <td>392.83</td>\n",
       "      <td>4.03</td>\n",
       "      <td>34.7</td>\n",
       "    </tr>\n",
       "    <tr>\n",
       "      <th>3</th>\n",
       "      <td>0.03237</td>\n",
       "      <td>0</td>\n",
       "      <td>2.18</td>\n",
       "      <td>0</td>\n",
       "      <td>0.458</td>\n",
       "      <td>6.998</td>\n",
       "      <td>45.8</td>\n",
       "      <td>6.0622</td>\n",
       "      <td>3</td>\n",
       "      <td>222</td>\n",
       "      <td>18.7</td>\n",
       "      <td>394.63</td>\n",
       "      <td>2.94</td>\n",
       "      <td>33.4</td>\n",
       "    </tr>\n",
       "    <tr>\n",
       "      <th>4</th>\n",
       "      <td>0.06905</td>\n",
       "      <td>0</td>\n",
       "      <td>2.18</td>\n",
       "      <td>0</td>\n",
       "      <td>0.458</td>\n",
       "      <td>7.147</td>\n",
       "      <td>54.2</td>\n",
       "      <td>6.0622</td>\n",
       "      <td>3</td>\n",
       "      <td>222</td>\n",
       "      <td>18.7</td>\n",
       "      <td>396.90</td>\n",
       "      <td>5.33</td>\n",
       "      <td>36.2</td>\n",
       "    </tr>\n",
       "  </tbody>\n",
       "</table>\n",
       "</div>"
      ],
      "text/plain": [
       "      CRIM  ZN  INDUS  CHAS    NOX     RM   AGE     DIS  RAD  TAX  PTRATIO  \\\n",
       "0  0.00632  18   2.31     0  0.538  6.575  65.2  4.0900    1  296     15.3   \n",
       "1  0.02731   0   7.07     0  0.469  6.421  78.9  4.9671    2  242     17.8   \n",
       "2  0.02729   0   7.07     0  0.469  7.185  61.1  4.9671    2  242     17.8   \n",
       "3  0.03237   0   2.18     0  0.458  6.998  45.8  6.0622    3  222     18.7   \n",
       "4  0.06905   0   2.18     0  0.458  7.147  54.2  6.0622    3  222     18.7   \n",
       "\n",
       "        B  LSTAT  cost  \n",
       "0  396.90   4.98  24.0  \n",
       "1  396.90   9.14  21.6  \n",
       "2  392.83   4.03  34.7  \n",
       "3  394.63   2.94  33.4  \n",
       "4  396.90   5.33  36.2  "
      ]
     },
     "execution_count": 69,
     "metadata": {},
     "output_type": "execute_result"
    }
   ],
   "source": [
    "import pandas as pd\n",
    "import numpy as np\n",
    "import matplotlib.pyplot as plt\n",
    "from sklearn import linear_model\n",
    "from sklearn.linear_model import Lasso\n",
    "from sklearn.linear_model import Ridge\n",
    "from sklearn.preprocessing import StandardScaler\n",
    "from sklearn.datasets import load_boston\n",
    "from sklearn import cross_validation\n",
    "from sklearn.metrics import mean_squared_error\n",
    "from sklearn import grid_search\n",
    "%matplotlib inline\n",
    "\n",
    "boston = load_boston()\n",
    "housing = pd.DataFrame.from_records(boston.data)\n",
    "housing.columns = boston.feature_names\n",
    "housing['cost'] = boston.target\n",
    "housing.head()"
   ]
  },
  {
   "cell_type": "markdown",
   "metadata": {
    "collapsed": true
   },
   "source": [
    "## Split into training and test set"
   ]
  },
  {
   "cell_type": "code",
   "execution_count": 70,
   "metadata": {
    "collapsed": true
   },
   "outputs": [],
   "source": [
    "X_train, X_test, y_train, y_test = cross_validation.train_test_split(boston.data, boston.target, test_size=0.2, random_state=0)"
   ]
  },
  {
   "cell_type": "markdown",
   "metadata": {},
   "source": [
    "## Fit Linear Regression"
   ]
  },
  {
   "cell_type": "code",
   "execution_count": 71,
   "metadata": {
    "collapsed": false
   },
   "outputs": [
    {
     "name": "stdout",
     "output_type": "stream",
     "text": [
      "coefficient [ -1.18410318e-01   4.47550643e-02   5.85674689e-03   2.34230117e+00\n",
      "  -1.61634024e+01   3.70135143e+00  -3.04553661e-03  -1.38664542e+00\n",
      "   2.43784171e-01  -1.09856157e-02  -1.04699133e+00   8.22014729e-03\n",
      "  -4.93642452e-01]\n",
      "intercept 38.1386927134\n",
      "Mean squared error for liner regression: 33.4507089677\n"
     ]
    }
   ],
   "source": [
    "lr_rgr = linear_model.LinearRegression()\n",
    "lr_rgr.fit(X_train,y_train)\n",
    "print(\"coefficient {}\".format(lr_rgr.coef_))\n",
    "print(\"intercept {}\".format(lr_rgr.intercept_))\n",
    "\n",
    "LR_MSE = mean_squared_error(y_test, lr_rgr.predict(X_test))\n",
    "print('Mean squared error for liner regression: {}'.format(LR_MSE))"
   ]
  },
  {
   "cell_type": "markdown",
   "metadata": {},
   "source": [
    "## Scale and fit Ridge and Lasso Regression"
   ]
  },
  {
   "cell_type": "code",
   "execution_count": 72,
   "metadata": {
    "collapsed": true
   },
   "outputs": [],
   "source": [
    "from sklearn import preprocessing\n",
    "X_train_scaled, X_test_scaled, y_train_scaled, y_test_scaled = cross_validation.train_test_split(preprocessing.scale(boston.data), boston.target, test_size=0.2, random_state=0)"
   ]
  },
  {
   "cell_type": "code",
   "execution_count": 73,
   "metadata": {
    "collapsed": false
   },
   "outputs": [
    {
     "data": {
      "text/plain": [
       "GridSearchCV(cv=5, error_score='raise',\n",
       "       estimator=Lasso(alpha=1.0, copy_X=True, fit_intercept=True, max_iter=1000,\n",
       "   normalize=True, positive=False, precompute=False, random_state=None,\n",
       "   selection='cyclic', tol=0.0001, warm_start=False),\n",
       "       fit_params={}, iid=True, loss_func=None, n_jobs=1,\n",
       "       param_grid=[{'alpha': array([  1.00000e-08,   3.33454e-04, ...,   9.99667e-01,   1.00000e+00])}],\n",
       "       pre_dispatch='2*n_jobs', refit=True, score_func=None, scoring=None,\n",
       "       verbose=0)"
      ]
     },
     "execution_count": 73,
     "metadata": {},
     "output_type": "execute_result"
    }
   ],
   "source": [
    "param_grid = [{'alpha':np.linspace(1e-8, 1, 3000)}]\n",
    "\n",
    "#Ridge\n",
    "ridge_rgr = linear_model.Ridge(normalize = True)\n",
    "ridge_cv = grid_search.GridSearchCV(ridge_rgr, param_grid,cv=5)\n",
    "ridge_cv.fit(X_train_scaled, y_train_scaled)\n",
    "\n",
    "#Lasso\n",
    "lasso_rgr = linear_model.Lasso(normalize = True)\n",
    "lasso_cv = grid_search.GridSearchCV(lasso_rgr, param_grid, cv=5)\n",
    "lasso_cv.fit(X_train_scaled, y_train_scaled)"
   ]
  },
  {
   "cell_type": "code",
   "execution_count": 74,
   "metadata": {
    "collapsed": false
   },
   "outputs": [
    {
     "name": "stdout",
     "output_type": "stream",
     "text": [
      "Mean squared error for Ridge regression: 34.2466856137\n",
      "Mean squared error for Lasso regression: 33.9447762006\n"
     ]
    }
   ],
   "source": [
    "Ridge_MSE = mean_squared_error(y_test_scaled, ridge_cv.best_estimator_.predict(X_test_scaled))\n",
    "Lasso_MSE = mean_squared_error(y_test_scaled, lasso_cv.best_estimator_.predict(X_test_scaled))\n",
    "\n",
    "print('Mean squared error for Ridge regression: {}'.format(Ridge_MSE))\n",
    "print('Mean squared error for Lasso regression: {}'.format(Lasso_MSE))"
   ]
  },
  {
   "cell_type": "markdown",
   "metadata": {},
   "source": [
    "## Try using a different scoring function"
   ]
  },
  {
   "cell_type": "code",
   "execution_count": 77,
   "metadata": {
    "collapsed": false
   },
   "outputs": [
    {
     "name": "stdout",
     "output_type": "stream",
     "text": [
      "Mean squared error for Ridge regression: 33.5384524938\n",
      "Mean squared error for Lasso regression: 33.734886772\n"
     ]
    }
   ],
   "source": [
    "from sklearn.metrics import make_scorer, mean_squared_error\n",
    "mse = make_scorer(mean_squared_error, greater_is_better = False)\n",
    "\n",
    "param_grid = [{'alpha':np.linspace(1e-8, 1, 3000)}]\n",
    "\n",
    "#Ridge\n",
    "ridge_rgr = linear_model.Ridge()\n",
    "ridge_cv = grid_search.GridSearchCV(ridge_rgr, param_grid,cv=5, scoring=mse)\n",
    "ridge_cv.fit(X_train_scaled, y_train_scaled)\n",
    "\n",
    "#Lasso\n",
    "lasso_rgr = linear_model.Lasso()\n",
    "lasso_cv = grid_search.GridSearchCV(lasso_rgr, param_grid, cv=5, scoring=mse)\n",
    "lasso_cv.fit(X_train_scaled, y_train_scaled)\n",
    "\n",
    "\n",
    "Ridge_MSE = mean_squared_error(y_test_scaled, ridge_cv.best_estimator_.predict(X_test_scaled))\n",
    "Lasso_MSE = mean_squared_error(y_test_scaled, lasso_cv.best_estimator_.predict(X_test_scaled))\n",
    "\n",
    "print('Mean squared error for Ridge regression: {}'.format(Ridge_MSE))\n",
    "print('Mean squared error for Lasso regression: {}'.format(Lasso_MSE))"
   ]
  },
  {
   "cell_type": "code",
   "execution_count": 84,
   "metadata": {
    "collapsed": false
   },
   "outputs": [
    {
     "name": "stdout",
     "output_type": "stream",
     "text": [
      "['CRIM' 'ZN' 'INDUS' 'CHAS' 'NOX' 'RM' 'AGE' 'DIS' 'RAD' 'TAX' 'PTRATIO'\n",
      " 'B' 'LSTAT']\n"
     ]
    },
    {
     "data": {
      "text/plain": [
       "array([-0.94869572,  0.97451365, -0.        ,  0.5934874 , -1.77404117,\n",
       "        2.62402232, -0.0470927 , -2.76052172,  1.82096803, -1.60545356,\n",
       "       -2.24039543,  0.72262279, -3.53482256])"
      ]
     },
     "execution_count": 84,
     "metadata": {},
     "output_type": "execute_result"
    }
   ],
   "source": [
    "print(boston.feature_names)\n",
    "lasso_cv.best_estimator_.fit(X_train_scaled, y_train_scaled).coef_"
   ]
  },
  {
   "cell_type": "markdown",
   "metadata": {},
   "source": [
    "## Add in polynomial features"
   ]
  },
  {
   "cell_type": "code",
   "execution_count": 86,
   "metadata": {
    "collapsed": false
   },
   "outputs": [
    {
     "name": "stdout",
     "output_type": "stream",
     "text": [
      "Mean squared error for Polynomial regression: 31.4494981089\n",
      "Mean squared error for Polynomial Ridge regression: 26.3538789603\n",
      "Mean squared error for Polynomial Lasso regression: 18.5255307863\n"
     ]
    }
   ],
   "source": [
    "from sklearn.preprocessing import PolynomialFeatures\n",
    "from sklearn.metrics import make_scorer, mean_squared_error\n",
    "\n",
    "mse = make_scorer(mean_squared_error, greater_is_better = False)\n",
    "poly = PolynomialFeatures(2)\n",
    "\n",
    "\n",
    "#Polynomial\n",
    "poly_rgr = linear_model.LinearRegression()\n",
    "poly_rgr.fit(poly.fit_transform(X_train),y_train)\n",
    "prediction = poly_rgr.predict(poly.fit_transform(X_test))\n",
    "Poly_MSE = mean_squared_error(y_test, prediction )\n",
    "\n",
    "#Polynomial Ridge \n",
    "ridge_poly_rgr = linear_model.Ridge()\n",
    "ridge_poly_cv = grid_search.GridSearchCV(ridge_poly_rgr, param_grid,cv=5, scoring=mse)\n",
    "ridge_poly_cv.fit(poly.fit_transform(X_train_scaled), y_train_scaled)\n",
    "Ridge_Poly_MSE = mean_squared_error(y_test_scaled, ridge_poly_cv.best_estimator_.predict(poly.fit_transform(X_test_scaled)))\n",
    "\n",
    "#Polynomial Lasso\n",
    "lasso_poly_rgr = linear_model.Lasso()\n",
    "lasso_poly_cv = grid_search.GridSearchCV(lasso_poly_rgr, param_grid, cv=5, scoring=mse)\n",
    "lasso_poly_cv.fit(poly.fit_transform(X_train_scaled), y_train_scaled)\n",
    "Lasso_Poly_MSE = mean_squared_error(y_test_scaled, lasso_poly_cv.best_estimator_.predict(poly.fit_transform(X_test_scaled)))\n",
    "\n",
    "\n",
    "print('Mean squared error for Polynomial regression: {}'.format(Poly_MSE))\n",
    "print('Mean squared error for Polynomial Ridge regression: {}'.format(Ridge_Poly_MSE))\n",
    "print('Mean squared error for Polynomial Lasso regression: {}'.format(Lasso_Poly_MSE))"
   ]
  },
  {
   "cell_type": "code",
   "execution_count": 91,
   "metadata": {
    "collapsed": false
   },
   "outputs": [
    {
     "data": {
      "text/plain": [
       "array([False, False, False, False, False,  True,  True,  True,  True,\n",
       "       False,  True,  True,  True,  True, False, False, False,  True,\n",
       "       False, False, False, False,  True, False, False, False, False,\n",
       "       False, False, False, False, False, False, False, False, False,\n",
       "       False, False, False,  True, False,  True,  True, False, False,\n",
       "       False, False, False, False,  True, False,  True,  True, False,\n",
       "       False, False,  True, False, False, False, False, False, False,\n",
       "        True,  True, False, False, False, False, False,  True, False,\n",
       "        True,  True,  True, False, False, False, False,  True, False,\n",
       "       False, False,  True,  True, False, False, False, False, False,\n",
       "       False,  True, False, False,  True, False,  True, False,  True,\n",
       "       False, False, False, False, False,  True], dtype=bool)"
      ]
     },
     "execution_count": 91,
     "metadata": {},
     "output_type": "execute_result"
    }
   ],
   "source": [
    "abs(lasso_poly_cv.best_estimator_.fit(poly.fit_transform(X_train_scaled), y_train_scaled).coef_) > .5"
   ]
  },
  {
   "cell_type": "markdown",
   "metadata": {},
   "source": [
    "## Add in higher polynomial features"
   ]
  },
  {
   "cell_type": "code",
   "execution_count": 88,
   "metadata": {
    "collapsed": false
   },
   "outputs": [
    {
     "name": "stdout",
     "output_type": "stream",
     "text": [
      "Mean squared error for Polynomial 3 regression: 1038786.70557\n",
      "Mean squared error for Polynomial 3 Ridge regression: 26.7484195055\n",
      "Mean squared error for Polynomial 3 Lasso regression: 21.5094113017\n"
     ]
    }
   ],
   "source": [
    "poly3 = PolynomialFeatures(3)\n",
    "\n",
    "#Polynomial\n",
    "poly3_rgr = linear_model.LinearRegression()\n",
    "poly3_rgr.fit(poly3.fit_transform(X_train),y_train)\n",
    "Poly3_MSE = mean_squared_error(y_test, poly3_rgr.predict(poly3.fit_transform(X_test)))\n",
    "\n",
    "#Polynomial Ridge \n",
    "ridge_poly3_rgr = linear_model.Ridge()\n",
    "ridge_poly3_cv = grid_search.GridSearchCV(ridge_poly3_rgr, param_grid,cv=5, scoring=mse)\n",
    "ridge_poly3_cv.fit(poly3.fit_transform(X_train_scaled), y_train_scaled)\n",
    "Ridge_Poly3_MSE = mean_squared_error(y_test_scaled, ridge_poly3_cv.best_estimator_.predict(poly3.fit_transform(X_test_scaled)))\n",
    "\n",
    "#Polynomial Lasso\n",
    "lasso_poly3_rgr = linear_model.Lasso()\n",
    "lasso_poly3_cv = grid_search.GridSearchCV(lasso_poly3_rgr, param_grid, cv=5, scoring=mse)\n",
    "lasso_poly3_cv.fit(poly3.fit_transform(X_train_scaled), y_train_scaled)\n",
    "Lasso_Poly3_MSE = mean_squared_error(y_test_scaled, lasso_poly3_cv.best_estimator_.predict(poly3.fit_transform(X_test_scaled)))\n",
    "\n",
    "\n",
    "print('Mean squared error for Polynomial 3 regression: {}'.format(Poly3_MSE))\n",
    "print('Mean squared error for Polynomial 3 Ridge regression: {}'.format(Ridge_Poly3_MSE))\n",
    "print('Mean squared error for Polynomial 3 Lasso regression: {}'.format(Lasso_Poly3_MSE))"
   ]
  },
  {
   "cell_type": "code",
   "execution_count": 90,
   "metadata": {
    "collapsed": false
   },
   "outputs": [
    {
     "data": {
      "text/plain": [
       "array([ 0.        , -0.        , -0.        , -0.03248798,  0.        ,\n",
       "       -0.71405843,  3.16009786, -0.94274203, -1.19646111,  0.00352687,\n",
       "       -0.70316459, -0.89208375,  1.08569341, -3.46547951,  0.06343218,\n",
       "        0.        ,  0.        ,  1.33448253, -0.1292301 ,  0.1759247 ,\n",
       "       -0.        ,  0.        , -0.56331031, -0.        , -0.        ,\n",
       "        0.        ,  0.        ,  0.09863326,  0.        ,  0.        ,\n",
       "        0.        ,  0.18661152,  0.        , -0.        ,  0.        ,\n",
       "        0.4548113 ,  0.10680522, -0.        , -0.        ,  0.57356129,\n",
       "        0.        ,  1.18890317,  0.56496678,  0.18514058,  0.37949528,\n",
       "        0.        ,  0.        , -0.40215992,  0.        , -0.83078275,\n",
       "        0.28971801, -0.85744057, -0.65934531,  0.22864212, -0.        ,\n",
       "        0.        ,  0.68837561,  0.        ,  0.43212307, -0.3437424 ,\n",
       "       -0.        , -0.05668273, -0.        ,  1.43171363, -1.34457322,\n",
       "       -0.        , -0.03741514,  0.        ,  0.13433339,  0.24583985,\n",
       "       -1.1648655 ,  0.0250414 , -0.54368381, -1.04404548, -1.0280374 ,\n",
       "        0.07371281, -0.25704422,  0.        ,  0.15605891,  1.19247611,\n",
       "       -0.        , -0.22942913, -0.17244949, -1.10906369,  0.78469314,\n",
       "        0.        ,  0.        ,  0.        , -0.        ,  0.2712808 ,\n",
       "       -0.        ,  1.0808234 ,  0.        , -0.3309807 , -0.75084258,\n",
       "        0.        ,  1.21530115, -0.        , -0.86512698, -0.        ,\n",
       "       -0.        , -0.        , -0.10390743, -0.2296433 ,  1.31968423])"
      ]
     },
     "execution_count": 90,
     "metadata": {},
     "output_type": "execute_result"
    }
   ],
   "source": [
    "lasso_poly_cv.best_estimator_.fit(poly.fit_transform(X_train_scaled), y_train_scaled).coef_"
   ]
  },
  {
   "cell_type": "code",
   "execution_count": 92,
   "metadata": {
    "collapsed": false
   },
   "outputs": [
    {
     "data": {
      "text/plain": [
       "array([[  6.32000000e-03,   1.80000000e+01,   2.31000000e+00, ...,\n",
       "          1.53000000e+01,   3.96900000e+02,   4.98000000e+00],\n",
       "       [  2.73100000e-02,   0.00000000e+00,   7.07000000e+00, ...,\n",
       "          1.78000000e+01,   3.96900000e+02,   9.14000000e+00],\n",
       "       [  2.72900000e-02,   0.00000000e+00,   7.07000000e+00, ...,\n",
       "          1.78000000e+01,   3.92830000e+02,   4.03000000e+00],\n",
       "       ..., \n",
       "       [  6.07600000e-02,   0.00000000e+00,   1.19300000e+01, ...,\n",
       "          2.10000000e+01,   3.96900000e+02,   5.64000000e+00],\n",
       "       [  1.09590000e-01,   0.00000000e+00,   1.19300000e+01, ...,\n",
       "          2.10000000e+01,   3.93450000e+02,   6.48000000e+00],\n",
       "       [  4.74100000e-02,   0.00000000e+00,   1.19300000e+01, ...,\n",
       "          2.10000000e+01,   3.96900000e+02,   7.88000000e+00]])"
      ]
     },
     "execution_count": 92,
     "metadata": {},
     "output_type": "execute_result"
    }
   ],
   "source": [
    "boston.data[]"
   ]
  },
  {
   "cell_type": "code",
   "execution_count": 102,
   "metadata": {
    "collapsed": false
   },
   "outputs": [],
   "source": [
    "tmp_train = poly.fit_transform(X_train)[:,abs(lasso_poly_cv.best_estimator_.fit(poly.fit_transform(X_train_scaled), y_train_scaled).coef_) > .5]\n",
    "tmp_test = poly.fit_transform(X_test)[:,abs(lasso_poly_cv.best_estimator_.fit(poly.fit_transform(X_train_scaled), y_train_scaled).coef_) > .5]"
   ]
  },
  {
   "cell_type": "code",
   "execution_count": 103,
   "metadata": {
    "collapsed": false
   },
   "outputs": [],
   "source": [
    "tmp_rgr = linear_model.LinearRegression()\n",
    "tmp_rgr.fit(tmp_train,y_train)\n",
    "tmp_MSE = mean_squared_error(y_test, tmp_rgr.predict(tmp_test))"
   ]
  },
  {
   "cell_type": "code",
   "execution_count": 104,
   "metadata": {
    "collapsed": false
   },
   "outputs": [
    {
     "data": {
      "text/plain": [
       "19.635923923565741"
      ]
     },
     "execution_count": 104,
     "metadata": {},
     "output_type": "execute_result"
    }
   ],
   "source": [
    "tmp_MSE"
   ]
  },
  {
   "cell_type": "code",
   "execution_count": 106,
   "metadata": {
    "collapsed": false
   },
   "outputs": [
    {
     "name": "stdout",
     "output_type": "stream",
     "text": [
      "Mean squared error for Polynomial 3 regression: 1038786.70557\n",
      "Mean squared error for Polynomial 3 Ridge regression: 26.7484195055\n",
      "Mean squared error for Polynomial 3 Lasso regression: 21.5094113017\n",
      "1.14026884237e-11\n",
      "0.920643329882\n",
      "5.85804144377\n"
     ]
    }
   ],
   "source": [
    "print('Mean squared error for Polynomial 3 regression: {}'.format(Poly3_MSE))\n",
    "print('Mean squared error for Polynomial 3 Ridge regression: {}'.format(Ridge_Poly3_MSE))\n",
    "print('Mean squared error for Polynomial 3 Lasso regression: {}'.format(Lasso_Poly3_MSE))\n",
    "\n",
    "print(mean_squared_error(y_train, poly3_rgr.predict(poly3.fit_transform(X_train))))\n",
    "print(mean_squared_error(y_train_scaled, ridge_poly3_cv.best_estimator_.predict(poly3.fit_transform(X_train_scaled))))\n",
    "print(mean_squared_error(y_train_scaled, lasso_poly3_cv.best_estimator_.predict(poly3.fit_transform(X_train_scaled))))"
   ]
  },
  {
   "cell_type": "code",
   "execution_count": null,
   "metadata": {
    "collapsed": true
   },
   "outputs": [],
   "source": []
  }
 ],
 "metadata": {
  "kernelspec": {
   "display_name": "Python 2",
   "language": "python",
   "name": "python2"
  },
  "language_info": {
   "codemirror_mode": {
    "name": "ipython",
    "version": 2
   },
   "file_extension": ".py",
   "mimetype": "text/x-python",
   "name": "python",
   "nbconvert_exporter": "python",
   "pygments_lexer": "ipython2",
   "version": "2.7.10"
  }
 },
 "nbformat": 4,
 "nbformat_minor": 0
}
